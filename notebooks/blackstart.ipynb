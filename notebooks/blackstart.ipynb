{
 "cells": [
  {
   "cell_type": "markdown",
   "metadata": {},
   "source": [
    "### Description\n",
    "This notebook explores blackstart capability by analyzing North American Electric Reliability Corporation (NERC) Generating Availability Data System (GADS) data. \n",
    "\n",
    "Through 2023, blackstart capability was not included as a generator attribute in the GADS data provided by NERC, though this information was still collected on a voluntary basis for a selection of generator types (see Appendix E of [1]). Given that, we infer the presence of this capability based on whether a blackstart-related event has been recorded for a given generator. This is done by leveraging the Cause Code field in the Events data, with a value of 9998 indicating a blackstart testing event. \n",
    "\n",
    "We present results by Unit Type Code."
   ]
  },
  {
   "cell_type": "code",
   "execution_count": 1,
   "metadata": {},
   "outputs": [
    {
     "data": {
      "text/html": [
       "<div>\n",
       "<style scoped>\n",
       "    .dataframe tbody tr th:only-of-type {\n",
       "        vertical-align: middle;\n",
       "    }\n",
       "\n",
       "    .dataframe tbody tr th {\n",
       "        vertical-align: top;\n",
       "    }\n",
       "\n",
       "    .dataframe thead th {\n",
       "        text-align: right;\n",
       "    }\n",
       "</style>\n",
       "<table border=\"1\" class=\"dataframe\">\n",
       "  <thead>\n",
       "    <tr style=\"text-align: right;\">\n",
       "      <th></th>\n",
       "      <th>UnitTypeCode</th>\n",
       "      <th>Description</th>\n",
       "      <th>Count</th>\n",
       "      <th>MW</th>\n",
       "    </tr>\n",
       "  </thead>\n",
       "  <tbody>\n",
       "    <tr>\n",
       "      <th>0</th>\n",
       "      <td>100</td>\n",
       "      <td>Fossil-Steam</td>\n",
       "      <td>51</td>\n",
       "      <td>12400</td>\n",
       "    </tr>\n",
       "    <tr>\n",
       "      <th>1</th>\n",
       "      <td>200</td>\n",
       "      <td>Nuclear</td>\n",
       "      <td>1</td>\n",
       "      <td>800</td>\n",
       "    </tr>\n",
       "    <tr>\n",
       "      <th>2</th>\n",
       "      <td>300</td>\n",
       "      <td>Gas Turbine/Jet Engine (Simple Cycle Operation)</td>\n",
       "      <td>490</td>\n",
       "      <td>32575</td>\n",
       "    </tr>\n",
       "    <tr>\n",
       "      <th>3</th>\n",
       "      <td>400</td>\n",
       "      <td>Internal Combustion/Reciprocating Engines</td>\n",
       "      <td>6</td>\n",
       "      <td>120</td>\n",
       "    </tr>\n",
       "    <tr>\n",
       "      <th>4</th>\n",
       "      <td>500</td>\n",
       "      <td>Pumped Storage/Hydro</td>\n",
       "      <td>336</td>\n",
       "      <td>18405</td>\n",
       "    </tr>\n",
       "    <tr>\n",
       "      <th>5</th>\n",
       "      <td>800</td>\n",
       "      <td>Miscellaneous</td>\n",
       "      <td>5</td>\n",
       "      <td>500</td>\n",
       "    </tr>\n",
       "    <tr>\n",
       "      <th>6</th>\n",
       "      <td>850</td>\n",
       "      <td>Combined Cycle Block</td>\n",
       "      <td>17</td>\n",
       "      <td>5100</td>\n",
       "    </tr>\n",
       "    <tr>\n",
       "      <th>7</th>\n",
       "      <td>851</td>\n",
       "      <td>CC GT units</td>\n",
       "      <td>51</td>\n",
       "      <td>7650</td>\n",
       "    </tr>\n",
       "    <tr>\n",
       "      <th>8</th>\n",
       "      <td>852</td>\n",
       "      <td>CC steam units</td>\n",
       "      <td>18</td>\n",
       "      <td>2700</td>\n",
       "    </tr>\n",
       "    <tr>\n",
       "      <th>9</th>\n",
       "      <td>860</td>\n",
       "      <td>Co-generator Block</td>\n",
       "      <td>1</td>\n",
       "      <td>150</td>\n",
       "    </tr>\n",
       "  </tbody>\n",
       "</table>\n",
       "</div>"
      ],
      "text/plain": [
       "   UnitTypeCode                                      Description  Count     MW\n",
       "0           100                                     Fossil-Steam     51  12400\n",
       "1           200                                          Nuclear      1    800\n",
       "2           300  Gas Turbine/Jet Engine (Simple Cycle Operation)    490  32575\n",
       "3           400        Internal Combustion/Reciprocating Engines      6    120\n",
       "4           500                             Pumped Storage/Hydro    336  18405\n",
       "5           800                                    Miscellaneous      5    500\n",
       "6           850                             Combined Cycle Block     17   5100\n",
       "7           851                                     CC GT units      51   7650\n",
       "8           852                                   CC steam units     18   2700\n",
       "9           860                              Co-generator Block       1    150"
      ]
     },
     "execution_count": 1,
     "metadata": {},
     "output_type": "execute_result"
    }
   ],
   "source": [
    "import pandas as pd\n",
    "\n",
    "blackstart_df = pd.read_csv(\"../data/blackstart_2013_2023.csv\", index_col=0)\n",
    "blackstart_df"
   ]
  },
  {
   "cell_type": "markdown",
   "metadata": {},
   "source": [
    "### References\n",
    "\n",
    "[1] North American Electric Reliability Corporation (2024). Generating Availability Data System Data Reporting Information. https://www.nerc.com/pa/RAPA/gads/pages/data%20reporting%20instructions.aspx"
   ]
  }
 ],
 "metadata": {
  "kernelspec": {
   "display_name": "py38_gads",
   "language": "python",
   "name": "python3"
  },
  "language_info": {
   "codemirror_mode": {
    "name": "ipython",
    "version": 3
   },
   "file_extension": ".py",
   "mimetype": "text/x-python",
   "name": "python",
   "nbconvert_exporter": "python",
   "pygments_lexer": "ipython3",
   "version": "3.8.19"
  }
 },
 "nbformat": 4,
 "nbformat_minor": 2
}
